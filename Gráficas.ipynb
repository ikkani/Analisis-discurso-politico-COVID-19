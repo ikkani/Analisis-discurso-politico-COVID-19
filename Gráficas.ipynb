{
 "cells": [
  {
   "cell_type": "code",
   "execution_count": null,
   "metadata": {},
   "outputs": [],
   "source": [
    "#Tweets por día"
   ]
  },
  {
   "cell_type": "code",
   "execution_count": null,
   "metadata": {},
   "outputs": [],
   "source": [
    "from resultados import *"
   ]
  },
  {
   "cell_type": "code",
   "execution_count": null,
   "metadata": {},
   "outputs": [],
   "source": [
    "lista = pd.read_excel('./Cuentas.xlsx', index_col=None, header=None)"
   ]
  },
  {
   "cell_type": "code",
   "execution_count": null,
   "metadata": {},
   "outputs": [],
   "source": [
    "numeroCuentas = len(lista[0])"
   ]
  },
  {
   "cell_type": "code",
   "execution_count": null,
   "metadata": {},
   "outputs": [],
   "source": [
    "#Media de tweets al día"
   ]
  },
  {
   "cell_type": "code",
   "execution_count": null,
   "metadata": {},
   "outputs": [],
   "source": [
    "semanas = []\n",
    "semanas.append(len(c['enero'].query('dia<=5'))/5)\n",
    "semanas.append(len(c['enero'].query('dia>5 and dia <=12'))/7)\n",
    "semanas.append(len(c['enero'].query('dia>12 and dia <= 19'))/7)\n",
    "semanas.append(len(c['enero'].query('dia>19 and dia <= 26'))/7)\n",
    "semanas.append(len(c['enero'].query('dia>26')))"
   ]
  },
  {
   "cell_type": "code",
   "execution_count": null,
   "metadata": {},
   "outputs": [],
   "source": [
    "semanas[len(semanas)-1] += (len(c['febrero'].query('dia<=2')))\n",
    "semanas[len(semanas)-1] = (semanas[len(semanas)-1]/7)\n",
    "semanas.append(len(c['febrero'].query('dia>2 and dia <=9'))/7)\n",
    "semanas.append(len(c['febrero'].query('dia>9 and dia <= 16'))/7)\n",
    "semanas.append(len(c['febrero'].query('dia>16 and dia <= 23'))/7)\n",
    "semanas.append(len(c['febrero'].query('dia>23')))"
   ]
  },
  {
   "cell_type": "code",
   "execution_count": null,
   "metadata": {},
   "outputs": [],
   "source": [
    "semanas[len(semanas)-1] += (len(c['marzo'].query('dia<=1')))\n",
    "semanas[len(semanas)-1] = (semanas[len(semanas)-1]/7)\n",
    "semanas.append(len(c['marzo'].query('dia>1 and dia <=8'))/7)\n",
    "semanas.append(len(c['marzo'].query('dia>8 and dia <= 15'))/7)\n",
    "semanas.append(len(c['marzo'].query('dia>15 and dia <= 22'))/7)\n",
    "semanas.append(len(c['marzo'].query('dia>22 and dia <= 29'))/7)\n",
    "semanas.append(len(c['marzo'].query('dia>29')))"
   ]
  },
  {
   "cell_type": "code",
   "execution_count": null,
   "metadata": {},
   "outputs": [],
   "source": [
    "semanas[len(semanas)-1] += (len(c['abril'].query('dia<=5')))\n",
    "semanas[len(semanas)-1] = (semanas[len(semanas)-1]/7)\n",
    "semanas.append(len(c['abril'].query('dia>5 and dia <=12'))/7)\n",
    "semanas.append(len(c['abril'].query('dia>12 and dia <= 19'))/7)\n",
    "semanas.append(len(c['abril'].query('dia>19 and dia <= 26'))/7)\n",
    "semanas.append(len(c['abril'].query('dia>26')))"
   ]
  },
  {
   "cell_type": "code",
   "execution_count": null,
   "metadata": {},
   "outputs": [],
   "source": [
    "semanas[len(semanas)-1] += (len(c['mayo'].query('dia<=3')))\n",
    "semanas[len(semanas)-1] = (semanas[len(semanas)-1]/7)\n",
    "semanas.append(len(c['mayo'].query('dia>3 and dia <=10'))/7)\n",
    "semanas.append(len(c['mayo'].query('dia>10 and dia <= 17'))/7)\n",
    "semanas.append(len(c['mayo'].query('dia>17 and dia <= 24'))/7)\n",
    "semanas.append(len(c['mayo'].query('dia>24'))/7)\n"
   ]
  },
  {
   "cell_type": "code",
   "execution_count": null,
   "metadata": {},
   "outputs": [],
   "source": [
    "semanas.append(len(c['junio'].query('dia<=7'))/7)\n",
    "semanas.append(len(c['junio'].query('dia>7 and dia <= 14'))/7)\n",
    "semanas.append(len(c['junio'].query('dia>14 and dia <= 21'))/7)"
   ]
  },
  {
   "cell_type": "code",
   "execution_count": null,
   "metadata": {},
   "outputs": [],
   "source": [
    "plt.xticks(range(0 , len(semanas)), semanasMeses[0:len(semanas)] , rotation=45)\n",
    "lines = plt.plot(semanasMeses, semanas, 'o-', color = 'navy', label = 'Todos los partidos')\n",
    "plt.subplots_adjust(left=0.07, bottom=0.20, right=0.95, top=0.95, wspace=0.2, hspace=0.2)\n",
    "ax = lines[0].axes\n",
    "ax.set_yticks(list(ax.get_yticks()))\n",
    "plt.ylabel('Media de tweets por día')\n",
    "plt.xlabel('Semana')\n",
    "plt.title('Número medio de tweets diarios por semana', size = 20)\n",
    "legend(loc = 'upper right')\n",
    "fig = plt.gcf()\n",
    "fig.set_size_inches(18.5, 11.5)\n",
    "\n",
    "ax.yaxis.label.set_size(20)\n",
    "ax.xaxis.label.set_size(20)\n",
    "ax.tick_params(axis='both', which='major', labelsize=18)\n",
    "\n",
    "\n",
    "plt.savefig(fname = './Memoria/imagenes/graficas/MediaTweetsDiariosPorSemana.pdf')"
   ]
  },
  {
   "cell_type": "code",
   "execution_count": null,
   "metadata": {},
   "outputs": [],
   "source": [
    "#Media Tweets Covid "
   ]
  },
  {
   "cell_type": "code",
   "execution_count": null,
   "metadata": {},
   "outputs": [],
   "source": [
    "semanas_palabra = []\n",
    "palabrasCovid = ['covid', 'coronavirus', 'pandemia']\n",
    "any ([True if palabra in c['enero'].tweet_completo.iloc[11].lower() else False for palabra in palabrasCovid])\n",
    "cont = 0\n",
    "for t in c['enero'].query('dia<=5')['tweet_completo']:\n",
    "    cont += any ([True if palabra in t.lower() else False for palabra in palabrasCovid])\n",
    "semanas_palabra.append(cont/5)\n",
    "\n",
    "cont = 0\n",
    "for t in c['enero'].query('dia>5 and dia <=12')['tweet_completo']:\n",
    "    cont += any ([True if palabra in t.lower() else False for palabra in palabrasCovid])\n",
    "semanas_palabra.append(cont/7)\n",
    "\n",
    "cont = 0\n",
    "for t in c['enero'].query('dia>12 and dia <= 19')['tweet_completo']:\n",
    "    cont += any ([True if palabra in t.lower() else False for palabra in palabrasCovid])\n",
    "semanas_palabra.append(cont/7)\n",
    "\n",
    "cont = 0\n",
    "for t in c['enero'].query('dia>19 and dia <= 26')['tweet_completo']:\n",
    "    cont += any ([True if palabra in t.lower() else False for palabra in palabrasCovid])\n",
    "semanas_palabra.append(cont/7)\n",
    "\n",
    "cont = 0\n",
    "for t in c['enero'].query('dia>26')['tweet_completo']:\n",
    "    cont += any ([True if palabra in t.lower() else False for palabra in palabrasCovid])"
   ]
  },
  {
   "cell_type": "code",
   "execution_count": null,
   "metadata": {},
   "outputs": [],
   "source": [
    "for t in c['febrero'].query('dia<=2')['tweet_completo']:\n",
    "    cont += any ([True if palabra in t.lower() else False for palabra in palabrasCovid])\n",
    "semanas_palabra.append(cont/7)\n",
    "\n",
    "cont = 0\n",
    "for t in c['febrero'].query('dia>2 and dia <=9')['tweet_completo']:\n",
    "    cont += any ([True if palabra in t.lower() else False for palabra in palabrasCovid])\n",
    "semanas_palabra.append(cont/7)\n",
    "\n",
    "cont = 0\n",
    "for t in c['febrero'].query('dia>9 and dia <= 16')['tweet_completo']:\n",
    "    cont += any ([True if palabra in t.lower() else False for palabra in palabrasCovid])\n",
    "semanas_palabra.append(cont/7)\n",
    "\n",
    "cont = 0\n",
    "for t in c['febrero'].query('dia>16 and dia <= 23')['tweet_completo']:\n",
    "    cont += any ([True if palabra in t.lower() else False for palabra in palabrasCovid])\n",
    "semanas_palabra.append(cont/7)\n",
    "\n",
    "cont = 0\n",
    "for t in c['febrero'].query('dia>23')['tweet_completo']:\n",
    "    cont += any ([True if palabra in t.lower() else False for palabra in palabrasCovid])"
   ]
  },
  {
   "cell_type": "code",
   "execution_count": null,
   "metadata": {},
   "outputs": [],
   "source": [
    "for t in c['marzo'].query('dia<=1')['tweet_completo']:\n",
    "    cont += any ([True if palabra in t.lower() else False for palabra in palabrasCovid])\n",
    "semanas_palabra.append(cont/7)\n",
    "\n",
    "cont = 0\n",
    "for t in c['marzo'].query('dia>1 and dia <=8')['tweet_completo']:\n",
    "    cont += any ([True if palabra in t.lower() else False for palabra in palabrasCovid])\n",
    "semanas_palabra.append(cont/7)\n",
    "\n",
    "cont = 0\n",
    "for t in c['marzo'].query('dia>8 and dia <=15')['tweet_completo']:\n",
    "    cont += any ([True if palabra in t.lower() else False for palabra in palabrasCovid])\n",
    "semanas_palabra.append(cont/7)\n",
    "\n",
    "cont = 0\n",
    "for t in c['marzo'].query('dia>15 and dia <= 22')['tweet_completo']:\n",
    "    cont += any ([True if palabra in t.lower() else False for palabra in palabrasCovid])\n",
    "semanas_palabra.append(cont/7)\n",
    "\n",
    "cont = 0\n",
    "for t in c['marzo'].query('dia>22 and dia <= 29')['tweet_completo']:\n",
    "    cont += any ([True if palabra in t.lower() else False for palabra in palabrasCovid])\n",
    "semanas_palabra.append(cont/7)\n",
    "\n",
    "cont = 0\n",
    "for t in c['marzo'].query('dia>29')['tweet_completo']:\n",
    "    cont += any ([True if palabra in t.lower() else False for palabra in palabrasCovid])"
   ]
  },
  {
   "cell_type": "code",
   "execution_count": null,
   "metadata": {},
   "outputs": [],
   "source": [
    "for t in c['abril'].query('dia<=5')['tweet_completo']:\n",
    "    cont += any ([True if palabra in t.lower() else False for palabra in palabrasCovid])\n",
    "semanas_palabra.append(cont/7)\n",
    "\n",
    "cont = 0\n",
    "for t in c['abril'].query('dia>5 and dia <=12')['tweet_completo']:\n",
    "    cont += any ([True if palabra in t.lower() else False for palabra in palabrasCovid])\n",
    "semanas_palabra.append(cont/7)\n",
    "\n",
    "cont = 0\n",
    "for t in c['abril'].query('dia>12 and dia <= 19')['tweet_completo']:\n",
    "    cont += any ([True if palabra in t.lower() else False for palabra in palabrasCovid])\n",
    "semanas_palabra.append(cont/7)\n",
    "\n",
    "cont = 0\n",
    "for t in c['abril'].query('dia>19 and dia <=26')['tweet_completo']:\n",
    "    cont += any ([True if palabra in t.lower() else False for palabra in palabrasCovid])\n",
    "semanas_palabra.append(cont/7)\n",
    "\n",
    "cont = 0\n",
    "for t in c['abril'].query('dia>26')['tweet_completo']:\n",
    "    cont += any ([True if palabra in t.lower() else False for palabra in palabrasCovid])"
   ]
  },
  {
   "cell_type": "code",
   "execution_count": null,
   "metadata": {},
   "outputs": [],
   "source": [
    "for t in c['mayo'].query('dia<=3')['tweet_completo']:\n",
    "    cont += any ([True if palabra in t.lower() else False for palabra in palabrasCovid])\n",
    "semanas_palabra.append(cont/7)\n",
    "\n",
    "cont = 0\n",
    "for t in c['mayo'].query('dia>3 and dia <=10')['tweet_completo']:\n",
    "    cont += any ([True if palabra in t.lower() else False for palabra in palabrasCovid])\n",
    "semanas_palabra.append(cont/7)\n",
    "\n",
    "cont = 0\n",
    "for t in c['mayo'].query('dia>10 and dia <= 17')['tweet_completo']:\n",
    "    cont += any ([True if palabra in t.lower() else False for palabra in palabrasCovid])\n",
    "semanas_palabra.append(cont/7)\n",
    "\n",
    "cont = 0\n",
    "for t in c['mayo'].query('dia>17 and dia <= 24')['tweet_completo']:\n",
    "    cont += any ([True if palabra in t.lower() else False for palabra in palabrasCovid])\n",
    "semanas_palabra.append(cont/7)\n",
    "cont = 0\n",
    "for t in c['mayo'].query('dia>24')['tweet_completo']:\n",
    "    cont += any ([True if palabra in t.lower() else False for palabra in palabrasCovid])\n",
    "semanas_palabra.append(cont/7)\n"
   ]
  },
  {
   "cell_type": "code",
   "execution_count": null,
   "metadata": {},
   "outputs": [],
   "source": [
    "cont = 0\n",
    "for t in c['junio'].query('dia<=7')['tweet_completo']:\n",
    "    cont += any ([True if palabra in t.lower() else False for palabra in palabrasCovid])\n",
    "semanas_palabra.append(cont/7)\n",
    "\n",
    "cont = 0\n",
    "for t in c['junio'].query('dia>7 and dia <= 14')['tweet_completo']:\n",
    "    cont += any ([True if palabra in t.lower() else False for palabra in palabrasCovid])\n",
    "semanas_palabra.append(cont/7)\n",
    "\n",
    "cont = 0\n",
    "for t in c['junio'].query('dia>14 and dia <= 21')['tweet_completo']:\n",
    "    cont += any ([True if palabra in t.lower() else False for palabra in palabrasCovid])\n",
    "semanas_palabra.append(cont/7)"
   ]
  },
  {
   "cell_type": "code",
   "execution_count": null,
   "metadata": {},
   "outputs": [],
   "source": [
    "plt.xticks(range(0 , len(semanas_palabra)), semanasMeses[0:len(semanas_palabra)] , rotation=45)\n",
    "lines = plt.plot(semanasMeses, semanas_palabra, 'o-', color = 'navy', label = 'Todos los partidos')\n",
    "plt.subplots_adjust(left=0.07, bottom=0.20, right=0.95, top=0.95, wspace=0.2, hspace=0.2)\n",
    "ax = lines[0].axes\n",
    "# ax.set_yticks(list(ax.get_yticks()))\n",
    "plt.ylabel('Media de tweets por día')\n",
    "plt.xlabel('Semana')\n",
    "plt.title('Número medio de tweets diarios por semana que contienen los términos \"covid\", \"coronavirus\" o \"pandemia\"', size = 20)\n",
    "legend(loc = 'upper right')\n",
    "fig = plt.gcf()\n",
    "fig.set_size_inches(18.5, 11.5)\n",
    "\n",
    "ax.yaxis.label.set_size(20)\n",
    "ax.xaxis.label.set_size(20)\n",
    "ax.tick_params(axis='both', which='major', labelsize=18)\n",
    "\n",
    "plt.savefig(fname = './Memoria/imagenes/graficas/MediaTweetsDiariosDelCovidPorSemana.pdf')"
   ]
  },
  {
   "cell_type": "code",
   "execution_count": null,
   "metadata": {},
   "outputs": [],
   "source": [
    "#PORCENTAJE"
   ]
  },
  {
   "cell_type": "code",
   "execution_count": null,
   "metadata": {},
   "outputs": [],
   "source": [
    "porcentaje = []\n",
    "for i in range(0, len(semanas)):\n",
    "    porcentaje.append((semanas_palabra[i]/semanas[i])*100)\n",
    "\n",
    "\n",
    "rangoY = range(math.floor(min(porcentaje)) , (math.ceil(max(porcentaje))+1))\n",
    "plt.yticks(rangoY , [str(p)+ ' %' if ((p%2==0) == ((len(rangoY)-1)%2==0))  else '' for p in range(math.floor(min(porcentaje)),(math.ceil(max(porcentaje))+1))] )\n",
    "plt.xticks(range(0 , len(semanas_palabra)), semanasMeses[0:len(semanas_palabra)] , rotation=45)\n",
    "lines = plt.plot(semanasMeses, porcentaje, 'o-', color = 'navy', label = 'Todos los partidos')\n",
    "plt.subplots_adjust(left=0.07, bottom=0.20, right=0.95, top=0.95, wspace=0.2, hspace=0.2)\n",
    "ax = lines[0].axes\n",
    "# ax.set_yticks(list(ax.get_yticks()))\n",
    "plt.ylabel('Tanto por ciento de tweets que mencionan directamente el tema')\n",
    "plt.xlabel('Semana')\n",
    "plt.title('Porcentaje de tweets diarios por semana que contienen los términos \"covid\", \"coronavirus\" o \"pandemia\"', size = 20)\n",
    "legend(loc = 'upper right')\n",
    "fig = plt.gcf()\n",
    "fig.set_size_inches(18.5, 11.5)\n",
    "\n",
    "ax.yaxis.label.set_size(20)\n",
    "ax.xaxis.label.set_size(20)\n",
    "ax.tick_params(axis='x', which='major', labelsize=18)\n",
    "ax.tick_params(axis='y', which='major', labelsize=16)\n",
    "\n",
    "plt.savefig(fname = './Memoria/imagenes/graficas/TweetsCovidPorcentaje.pdf')"
   ]
  },
  {
   "cell_type": "code",
   "execution_count": null,
   "metadata": {},
   "outputs": [],
   "source": [
    "emojisMap = {}\n",
    "\n",
    "for mes in c:\n",
    "    corpusMes = c[mes]\n",
    "    corpusMes = corpusMes[corpusMes.emojis == corpusMes.emojis]\n",
    "    for emojis in corpusMes.emojis:\n",
    "        for emoji in emojis:\n",
    "            if emoji in [' ']:\n",
    "                continue\n",
    "            emojisMap[emoji] = emojisMap.get(emoji, 0) + 1\n"
   ]
  },
  {
   "cell_type": "code",
   "execution_count": null,
   "metadata": {
    "scrolled": true
   },
   "outputs": [],
   "source": [
    "graficaHTsemanas(corpus, 5)"
   ]
  }
 ],
 "metadata": {
  "kernelspec": {
   "display_name": "Python 3",
   "language": "python",
   "name": "python3"
  },
  "language_info": {
   "codemirror_mode": {
    "name": "ipython",
    "version": 3
   },
   "file_extension": ".py",
   "mimetype": "text/x-python",
   "name": "python",
   "nbconvert_exporter": "python",
   "pygments_lexer": "ipython3",
   "version": "3.7.2"
  }
 },
 "nbformat": 4,
 "nbformat_minor": 4
}
